{
 "cells": [
  {
   "cell_type": "markdown",
   "metadata": {
    "id": "-zHf-t-XFaIr"
   },
   "source": [
    "# Datatypes exercises"
   ]
  },
  {
   "cell_type": "markdown",
   "metadata": {
    "id": "agN6IYTGFaIt"
   },
   "source": [
    "## Exercise 1"
   ]
  },
  {
   "cell_type": "markdown",
   "metadata": {
    "id": "zUr2W6laFaIt"
   },
   "source": [
    "Write the following mathematical formula in Python:\n",
    "\n",
    "\\begin{align}\n",
    " result = 6a^3 - \\frac{8b^2 }{4c} + 11\n",
    "\\end{align}\n",
    "\n",
    "```python\n",
    "a = 2\n",
    "b = 3\n",
    "c = 2\n",
    "```\n",
    "\n",
    "> write your formula as \n",
    "```python\n",
    "result = \n",
    "```\n",
    "\n",
    "It must verify\n",
    "```python\n",
    ">>> assert result == 50"
   ]
  },
  {
   "cell_type": "code",
   "execution_count": null,
   "metadata": {
    "id": "B4HNSdLSFaIu"
   },
   "outputs": [],
   "source": [
    "a = 2\n",
    "b = 3\n",
    "c = 2\n",
    "result = 6*a**3-(8*b**2)/(4*c)+11\n",
    "assert result == 50"
   ]
  },
  {
   "cell_type": "markdown",
   "metadata": {
    "id": "V5dsFzs0FaIu"
   },
   "source": [
    "## Exercise 2"
   ]
  },
  {
   "cell_type": "markdown",
   "metadata": {
    "id": "D2YqpE9gFaIv"
   },
   "source": [
    "Explain why the folowing assertion fails"
   ]
  },
  {
   "cell_type": "code",
   "execution_count": 3,
   "metadata": {
    "colab": {
     "base_uri": "https://localhost:8080/",
     "height": 169
    },
    "id": "b61HixgXFaIv",
    "outputId": "11e2b6b6-e774-4be1-c561-f8eebd3aa240"
   },
   "outputs": [],
   "source": [
    "#we should write for example \n",
    "assert round(0.1 + 0.2 , 2) == 0.3\n",
    "#cause python works with binary and 0.1 for example in binary not exactly that 0.1 we know"
   ]
  },
  {
   "cell_type": "markdown",
   "metadata": {
    "id": "ytuu6OtaG6WF"
   },
   "source": []
  },
  {
   "cell_type": "markdown",
   "metadata": {
    "id": "f-5Ciy-HFaIv"
   },
   "source": [
    "## Exercise 3"
   ]
  },
  {
   "cell_type": "markdown",
   "metadata": {
    "id": "q1un-aopFaIw"
   },
   "source": [
    "Write a Python program to sum all the items in a list"
   ]
  },
  {
   "cell_type": "code",
   "execution_count": null,
   "metadata": {
    "id": "ik8Km3OfFaIw"
   },
   "outputs": [],
   "source": [
    "#Code Here\n",
    "def sum_list(l):\n",
    "  s=0\n",
    "  for i in l:\n",
    "    s+=i\n",
    "  return s\n",
    "\n",
    "assert sum_list([10, 20, -1]) == 29"
   ]
  },
  {
   "cell_type": "markdown",
   "metadata": {
    "id": "ak5TPXjdFaIw"
   },
   "source": [
    "## Exercise 4"
   ]
  },
  {
   "cell_type": "markdown",
   "metadata": {
    "id": "rWk5i1s0FaIw"
   },
   "source": [
    "Write a program that asks how long it took to run 10 km today. The program continues to ask how long (in minutes) it took for additional runs, until the user enters q. At that point, the program exits — but only after calculating and displaying the average time that the 10 km run took.  \n",
    "\n",
    "\n",
    "Example:\n",
    "```\n",
    "Enter 10 km run time: 15\n",
    "Enter 10 km run time: 20\n",
    "Enter 10 km run time: 10\n",
    "Enter 10 km run time: q\n",
    "\n",
    "Average of 15.0, over 3 runs\n",
    "```"
   ]
  },
  {
   "cell_type": "code",
   "execution_count": 6,
   "metadata": {
    "id": "znIgdsfYIxme"
   },
   "outputs": [],
   "source": [
    "l=[]\n",
    "for i in range(1000):\n",
    "  a =input(\"Enter 10 km run time: \")\n",
    "  if a!= \"q\":\n",
    "    l.append(a)\n",
    "    new_l = [eval(j) for j in l]\n",
    "    s = sum_list(new_l) / len(new_l)\n",
    "  else:\n",
    "    break \n",
    "print(\"Average of\", s ,\", over\", i ,\"runs\")\n",
    "\n"
   ]
  },
  {
   "cell_type": "code",
   "execution_count": null,
   "metadata": {
    "colab": {
     "base_uri": "https://localhost:8080/"
    },
    "id": "c4mBEqVNJ9hb",
    "outputId": "e1c276a6-b556-4d9c-e8f4-b4906eabd6b3"
   },
   "outputs": [
    {
     "name": "stdout",
     "output_type": "stream",
     "text": [
      "Enter 10 km eun time : 15\n",
      "Enter 10 km eun time : 20\n",
      "Enter 10 km eun time : 10\n",
      "Enter 10 km eun time : q\n",
      "Average of  15.0 , over  3  runs\n"
     ]
    }
   ],
   "source": [
    "average_10km(1500)"
   ]
  },
  {
   "cell_type": "markdown",
   "metadata": {
    "id": "VZ8fej3yFaIx"
   },
   "source": [
    "## Exercise 5"
   ]
  },
  {
   "cell_type": "markdown",
   "metadata": {
    "id": "4bXkOY7zFaIx"
   },
   "source": [
    "Write a function that takes a string and returns the sorted string."
   ]
  },
  {
   "cell_type": "code",
   "execution_count": 7,
   "metadata": {
    "id": "FGnoqIV0FaIx"
   },
   "outputs": [],
   "source": [
    "def sort_string(s):\n",
    "  l=list(s)\n",
    "  for i in range(len(l)-1,0,-1):\n",
    "    for j in range(i):\n",
    "      if l[j]>l[j+1]:\n",
    "        c=l[j]\n",
    "        l[j]=l[j+1]\n",
    "        l[j+1]=c \n",
    "        ns=''.join(l) \n",
    "      return ns\n",
    "  assert sort_string(\"cab\") == \"abc\""
   ]
  },
  {
   "cell_type": "markdown",
   "metadata": {
    "id": "-jvqamqsFaIy"
   },
   "source": [
    "## Exercise 6"
   ]
  },
  {
   "cell_type": "markdown",
   "metadata": {
    "id": "qWYr8EzUFaIy"
   },
   "source": [
    "Write a function that take a string of multiple words and returns the position of the word with most repeated letters"
   ]
  },
  {
   "cell_type": "code",
   "execution_count": null,
   "metadata": {
    "id": "Y_y8IJouFaIy"
   },
   "outputs": [],
   "source": [
    "\n",
    "def repeated_letters(s):\n",
    "  C = []\n",
    "  for i in set(s):\n",
    "    C.append(s.count(i))\n",
    "  return max(C)\n",
    "\n",
    "def wwmrl(L):\n",
    "  Max = 0\n",
    "  A = []\n",
    "  for i in range(len(L)):\n",
    "    A.append(repeated_letters(L[i]))\n",
    "    Max = max(A)\n",
    "  return A.index(max(A)) \n",
    "      \n",
    "assert wwmrl(['this', 'is', 'an', 'elementary', 'test', 'example']) == 3"
   ]
  },
  {
   "cell_type": "markdown",
   "metadata": {
    "id": "JiiWHypoFaIy"
   },
   "source": [
    "## Exercise 7"
   ]
  },
  {
   "cell_type": "markdown",
   "metadata": {
    "id": "e6hxvT9OFaIy"
   },
   "source": [
    "1. Create a tuple\n",
    "2. Unpack the tuple in multiple variables"
   ]
  },
  {
   "cell_type": "code",
   "execution_count": null,
   "metadata": {
    "id": "hKXIp1uAFaIz"
   },
   "outputs": [],
   "source": [
    "(x,y) = (10,20)"
   ]
  },
  {
   "cell_type": "markdown",
   "metadata": {
    "id": "O-ogwcunFaIz"
   },
   "source": [
    "## Exercise 8"
   ]
  },
  {
   "cell_type": "markdown",
   "metadata": {
    "id": "gItAZo8PFaIz"
   },
   "source": [
    "Write a Python program to sort a tuple by its float element.  \n",
    "Sample data: `[('item1', '12.20'), ('item2', '15.10'), ('item3', '24.5')]`  \n",
    "Expected Output: `[('item3', '24.5'), ('item2', '15.10'), ('item1', '12.20')]`"
   ]
  },
  {
   "cell_type": "code",
   "execution_count": null,
   "metadata": {
    "colab": {
     "base_uri": "https://localhost:8080/"
    },
    "id": "gTwAxCJRFaIz",
    "outputId": "302f59df-6f37-422b-d299-b95a78d87bc6"
   },
   "outputs": [
    {
     "name": "stdout",
     "output_type": "stream",
     "text": [
      "-1\n",
      "0\n",
      "1\n",
      "[24.5]\n"
     ]
    }
   ],
   "source": [
    "L = [('item1', '12.20'), ('item2', '15.10'), ('item3', '24.5')]\n",
    "B = []\n",
    "B_sort = []\n",
    "Max = 0\n",
    "for i in range(len(L)):\n",
    "  B.append(eval(L[i][1]))\n",
    "  if B[i] > Max:\n",
    "    Max = i\n",
    "    i = i - 1\n",
    "    print(i)\n",
    "B_sort.append(B[Max])\n",
    "\n",
    "print(B_sort)\n"
   ]
  },
  {
   "cell_type": "code",
   "execution_count": null,
   "metadata": {
    "colab": {
     "base_uri": "https://localhost:8080/"
    },
    "id": "bBofJOiGWSLD",
    "outputId": "592d32f4-c4fc-4f2a-a2e1-b910aeeab068"
   },
   "outputs": [
    {
     "name": "stdout",
     "output_type": "stream",
     "text": [
      "[('item3', '24.5'), ('item2', '15.10'), ('item1', '12.20')]\n"
     ]
    }
   ],
   "source": [
    "L = [('item1', '12.20'), ('item2', '15.10'), ('item3', '24.5')]\n",
    "L.sort(reverse = True)\n",
    "print(L)"
   ]
  },
  {
   "cell_type": "markdown",
   "metadata": {
    "id": "gxmTYWGxFaIz"
   },
   "source": [
    "## Exercise 9"
   ]
  },
  {
   "cell_type": "markdown",
   "metadata": {
    "id": "DIcHVc2zFaI0"
   },
   "source": [
    "Write a Python script to concatenate dictionaries to create a new one."
   ]
  },
  {
   "cell_type": "code",
   "execution_count": null,
   "metadata": {
    "colab": {
     "base_uri": "https://localhost:8080/"
    },
    "id": "qIP_g-INFaI0",
    "outputId": "21b918cd-5735-44ea-d377-2afda1a98172"
   },
   "outputs": [
    {
     "name": "stdout",
     "output_type": "stream",
     "text": [
      "Expected Result :  {1: 10, 2: 20, 3: 30, 4: 40, 5: 50, 6: 60}\n"
     ]
    }
   ],
   "source": [
    "dic1={1:10, 2:20}\n",
    "dic2={3:30, 4:40}\n",
    "dic3={5:50,6:60}\n",
    "\n",
    "res = {**dic1, **dic2, **dic3}\n",
    "\n",
    "print(\"Expected Result : \", res)"
   ]
  },
  {
   "cell_type": "markdown",
   "metadata": {
    "id": "oz1hAfDpFaI0"
   },
   "source": [
    "## Exercise 10"
   ]
  },
  {
   "cell_type": "markdown",
   "metadata": {
    "id": "UIQYyGoKFaI0"
   },
   "source": [
    "Write a Python program to combine two dictionary adding values for common keys."
   ]
  },
  {
   "cell_type": "code",
   "execution_count": null,
   "metadata": {
    "colab": {
     "base_uri": "https://localhost:8080/"
    },
    "id": "J2bRztKGFaI0",
    "outputId": "98f1556e-c972-4c71-ca2b-a94eeb834fa1"
   },
   "outputs": [
    {
     "data": {
      "text/plain": [
       "{'a': 400, 'b': 400, 'd': 400, 'c': 300}"
      ]
     },
     "execution_count": 36,
     "metadata": {},
     "output_type": "execute_result"
    }
   ],
   "source": [
    "d1 = {'a': 100, 'b': 200, 'c':300}\n",
    "d2 = {'a': 300, 'b': 200, 'd':400}\n",
    "\"\"\"\"Sample output: {'a': 400, 'b': 400, 'd': 400, 'c': 300}\"\"\"\n",
    "def add_if_key_not_exist(dict_obj, key, value):\n",
    "    if key not in dict_obj:\n",
    "      dict_obj.update({key: value})\n",
    "\n",
    "def Concatenation(dict1, dict2):\n",
    "  res = {}\n",
    "  S = 0\n",
    "  for key_1 in dict1:\n",
    "    for key_2 in dict2:\n",
    "      if(key_1 == key_2):\n",
    "        S = dict1[key_1] + dict2[key_2]\n",
    "        res.update({key_1: S})\n",
    "      add_if_key_not_exist(res, key_1, dict1[key_1])\n",
    "      add_if_key_not_exist(res, key_2, dict2[key_2])\n",
    "  return res\n",
    "  \n",
    "Concatenation(d1, d2)"
   ]
  },
  {
   "cell_type": "code",
   "execution_count": null,
   "metadata": {
    "colab": {
     "base_uri": "https://localhost:8080/"
    },
    "id": "R1YnL10Golsx",
    "outputId": "2d6b97e0-0868-4949-be71-2b5cb620eb72"
   },
   "outputs": [
    {
     "name": "stdout",
     "output_type": "stream",
     "text": [
      "{'a': 100, 'b': 200, 'c': 300, 'h': 250}\n"
     ]
    }
   ],
   "source": [
    "d1 = {'a': 100, 'b': 200, 'c':300}\n",
    "d2 = {'a': 300, 'b': 200, 'd':400}\n",
    "def add_if_key_not_exist(dict_obj, key, value):\n",
    "    if key not in dict_obj:\n",
    "      dict_obj.update({key: value})\n",
    "add_if_key_not_exist(d1, 'h', 250)\n",
    "print(d1)"
   ]
  },
  {
   "cell_type": "markdown",
   "metadata": {
    "id": "l3b-t98VFaI1"
   },
   "source": [
    "## Exercise 11"
   ]
  },
  {
   "cell_type": "markdown",
   "metadata": {
    "id": "XEStoSqPFaI1"
   },
   "source": [
    "Write a Python program to extract values from a given dictionaries and create a list of lists from those values.\n",
    "\n",
    "Original Dictionary:  \n",
    "`[{'student_id': 1, 'name': 'Jean Castro', 'class': 'V'}, {'student_id': 2, 'name': 'Lula Powell', 'class': 'V'}, {'student_id': 3, 'name': 'Brian Howell', 'class': 'VI'}, {'student_id': 4, 'name': 'Lynne Foster', 'class': 'VI'}, {'student_id': 5, 'name': 'Zachary Simon', 'class': 'VII'}]`  \n",
    "Output:  \n",
    "`[[1, 'Jean Castro', 'V'], [2, 'Lula Powell', 'V'], [3, 'Brian Howell', 'VI'], [4, 'Lynne Foster', 'VI'], [5, 'Zachary Simon', 'VII']]`"
   ]
  },
  {
   "cell_type": "code",
   "execution_count": null,
   "metadata": {
    "id": "JuxmyX9UFaI1"
   },
   "outputs": [],
   "source": [
    "data = [{'student_id': 1, 'name': 'Jean Castro', 'class': 'V'}, {'student_id': 2, 'name': 'Lula Powell', 'class': 'V'}, {'student_id': 3, 'name': 'Brian Howell', 'class': 'VI'}, {'student_id': 4, 'name': 'Lynne Foster', 'class': 'VI'}, {'student_id': 5, 'name': 'Zachary Simon', 'class': 'VII'}]"
   ]
  },
  {
   "cell_type": "code",
   "execution_count": null,
   "metadata": {
    "colab": {
     "base_uri": "https://localhost:8080/"
    },
    "id": "xPBtGhko2RvE",
    "outputId": "36ca70be-13f1-4c92-c5ca-a0b1eccea126"
   },
   "outputs": [
    {
     "name": "stdout",
     "output_type": "stream",
     "text": [
      "[[1, 'Jean Castro', 'V'], [2, 'Lula Powell', 'V'], [3, 'Brian Howell', 'VI'], [4, 'Lynne Foster', 'VI'], [5, 'Zachary Simon', 'VII']]\n"
     ]
    }
   ],
   "source": [
    "L = []\n",
    "for i in range(len(data)):\n",
    "  L.append(list(data[i].values()))\n",
    "print(L)"
   ]
  }
 ],
 "metadata": {
  "colab": {
   "include_colab_link": true,
   "provenance": []
  },
  "kernelspec": {
   "display_name": "Python 3 (ipykernel)",
   "language": "python",
   "name": "python3"
  },
  "language_info": {
   "codemirror_mode": {
    "name": "ipython",
    "version": 3
   },
   "file_extension": ".py",
   "mimetype": "text/x-python",
   "name": "python",
   "nbconvert_exporter": "python",
   "pygments_lexer": "ipython3",
   "version": "3.9.13"
  },
  "vscode": {
   "interpreter": {
    "hash": "916dbcbb3f70747c44a77c7bcd40155683ae19c65e1c03b4aa3499c5328201f1"
   }
  }
 },
 "nbformat": 4,
 "nbformat_minor": 1
}
